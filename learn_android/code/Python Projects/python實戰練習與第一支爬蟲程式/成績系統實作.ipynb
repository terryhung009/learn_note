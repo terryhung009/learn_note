{
 "cells": [
  {
   "cell_type": "code",
   "execution_count": 22,
   "metadata": {},
   "outputs": [
    {
     "name": "stdout",
     "output_type": "stream",
     "text": [
      "Class 101班級成績管理系統\n",
      "-----------------------\n",
      "1.輸入學生姓名\n",
      "2.輸入國文成績\n",
      "3.輸入英文成績\n",
      "4.輸入數學成績\n",
      "5.顯示成績單\n",
      "0.結束程式\n",
      "-----------------------\n",
      "請輸入您的選擇:1\n",
      "座號(0==>停止輸入 :)1\n",
      "姓名:林小明\n",
      "{1: '林小明'}\n",
      "座號(0==>停止輸入 :)0\n",
      "Class 101班級成績管理系統\n",
      "-----------------------\n",
      "1.輸入學生姓名\n",
      "2.輸入國文成績\n",
      "3.輸入英文成績\n",
      "4.輸入數學成績\n",
      "5.顯示成績單\n",
      "0.結束程式\n",
      "-----------------------\n",
      "請輸入您的選擇:2\n",
      "1,林小明的數學成績:99\n",
      "{1: 99}\n",
      "按Enter返回主選單3\n",
      "Class 101班級成績管理系統\n",
      "-----------------------\n",
      "1.輸入學生姓名\n",
      "2.輸入國文成績\n",
      "3.輸入英文成績\n",
      "4.輸入數學成績\n",
      "5.顯示成績單\n",
      "0.結束程式\n",
      "-----------------------\n",
      "請輸入您的選擇:3\n"
     ]
    },
    {
     "ename": "IndexError",
     "evalue": "list index out of range",
     "output_type": "error",
     "traceback": [
      "\u001b[1;31m---------------------------------------------------------------------------\u001b[0m",
      "\u001b[1;31mIndexError\u001b[0m                                Traceback (most recent call last)",
      "\u001b[1;32m<ipython-input-22-0eba4928a929>\u001b[0m in \u001b[0;36m<module>\u001b[1;34m\u001b[0m\n\u001b[0;32m     60\u001b[0m         \u001b[0menter_std_data\u001b[0m\u001b[1;33m(\u001b[0m\u001b[1;33m)\u001b[0m\u001b[1;33m\u001b[0m\u001b[1;33m\u001b[0m\u001b[0m\n\u001b[0;32m     61\u001b[0m     \u001b[1;32melif\u001b[0m \u001b[0muser_choice\u001b[0m\u001b[1;33m>=\u001b[0m\u001b[1;36m2\u001b[0m \u001b[1;32mand\u001b[0m \u001b[0muser_choice\u001b[0m\u001b[1;33m<=\u001b[0m\u001b[1;36m4\u001b[0m\u001b[1;33m:\u001b[0m\u001b[1;33m\u001b[0m\u001b[1;33m\u001b[0m\u001b[0m\n\u001b[1;32m---> 62\u001b[1;33m         \u001b[0menter_score\u001b[0m\u001b[1;33m(\u001b[0m\u001b[0muser_choice\u001b[0m\u001b[1;33m)\u001b[0m\u001b[1;33m\u001b[0m\u001b[1;33m\u001b[0m\u001b[0m\n\u001b[0m\u001b[0;32m     63\u001b[0m     \u001b[1;32melif\u001b[0m \u001b[0muser_choice\u001b[0m\u001b[1;33m==\u001b[0m\u001b[1;36m5\u001b[0m\u001b[1;33m:\u001b[0m\u001b[1;33m\u001b[0m\u001b[1;33m\u001b[0m\u001b[0m\n\u001b[0;32m     64\u001b[0m         \u001b[0mdisp_score_table\u001b[0m\u001b[1;33m(\u001b[0m\u001b[1;33m)\u001b[0m\u001b[1;33m\u001b[0m\u001b[1;33m\u001b[0m\u001b[0m\n",
      "\u001b[1;32m<ipython-input-22-0eba4928a929>\u001b[0m in \u001b[0;36menter_score\u001b[1;34m(subject_no)\u001b[0m\n\u001b[0;32m     36\u001b[0m         \u001b[0mscores\u001b[0m\u001b[1;33m[\u001b[0m\u001b[0msubject_no\u001b[0m\u001b[1;33m]\u001b[0m\u001b[1;33m[\u001b[0m\u001b[0mno\u001b[0m\u001b[1;33m]\u001b[0m \u001b[1;33m=\u001b[0m\u001b[0;31m \u001b[0m\u001b[0;31m\\\u001b[0m\u001b[1;33m\u001b[0m\u001b[1;33m\u001b[0m\u001b[0m\n\u001b[0;32m     37\u001b[0m         int(input(\"{},{}的{}成績:\". \\\n\u001b[1;32m---> 38\u001b[1;33m         format(no,name,subjects[subject_no])))\n\u001b[0m\u001b[0;32m     39\u001b[0m \u001b[1;33m\u001b[0m\u001b[0m\n\u001b[0;32m     40\u001b[0m     \u001b[0mprint\u001b[0m\u001b[1;33m(\u001b[0m\u001b[0mscores\u001b[0m\u001b[1;33m[\u001b[0m\u001b[0msubject_no\u001b[0m\u001b[1;33m]\u001b[0m\u001b[1;33m)\u001b[0m\u001b[1;33m\u001b[0m\u001b[1;33m\u001b[0m\u001b[0m\n",
      "\u001b[1;31mIndexError\u001b[0m: list index out of range"
     ]
    }
   ],
   "source": [
    "# _*_ coding: utf-8 _*_\n",
    "#程式 7-13(python 3 version)\n",
    "\n",
    "import os\n",
    "class_101 = dict() #記錄學生座號及姓名\n",
    "chi_score = dict() #紀錄國文成績\n",
    "eng_score = dict() #紀錄英文成績\n",
    "mat_score = dict() #紀錄數學成績\n",
    "\n",
    "subjects = ['國文','英文','數學']\n",
    "scores = [chi_score,eng_score,mat_score]\n",
    "\n",
    "def disp_menu():\n",
    "    os.system(\"cls\")\n",
    "    print(\"Class 101班級成績管理系統\")\n",
    "    print(\"-----------------------\")\n",
    "    print(\"1.輸入學生姓名\")\n",
    "    print(\"2.輸入國文成績\")\n",
    "    print(\"3.輸入英文成績\")\n",
    "    print(\"4.輸入數學成績\")\n",
    "    print(\"5.顯示成績單\")\n",
    "    print(\"0.結束程式\")\n",
    "    print(\"-----------------------\")\n",
    "    \n",
    "    \n",
    "def enter_std_data():\n",
    "    while True:\n",
    "        no = int(input(\"座號(0==>停止輸入 :)\"))\n",
    "        if no <=0 or no >100:break\n",
    "        name = input(\"姓名:\")\n",
    "        class_101[no]= name\n",
    "        print(class_101)\n",
    "        \n",
    "def enter_score(subject_no):\n",
    "    for no,name in class_101.items():\n",
    "        scores[subject_no][no] = \\\n",
    "        int(input(\"{},{}的{}成績:\". \\\n",
    "        format(no,name,subjects[subject_no])))\n",
    "        \n",
    "    print(scores[subject_no])\n",
    "    x = input(\"按Enter返回主選單\")\n",
    "    \n",
    "def disp_score_table():\n",
    "    for no in class101.keys():\n",
    "        print(\"{:<5}:)\".format(class_101[no]),end=\"\")\n",
    "        sum = 0\n",
    "        for subject_no in range(0,3):\n",
    "            sum = sum + scores[subject_no][no]\n",
    "            print(\"{}:{:>3},平均:{:.2f}\".format(sum,\\\n",
    "            float(sum)/len(scores)))\n",
    "            \n",
    "        x = input(\"按Enter返回主選單\")\n",
    "        \n",
    "### 主程式從這裡開始\n",
    "\n",
    "while True:\n",
    "    disp_menu()\n",
    "    user_choice = int(input(\"請輸入您的選擇:\"))\n",
    "    if user_choice==1:\n",
    "        enter_std_data()\n",
    "    elif user_choice>=2 and user_choice<=4:\n",
    "        enter_score(user_choice)\n",
    "    elif user_choice==5:\n",
    "        disp_score_table()\n",
    "    else:\n",
    "        break\n",
    "print(\"謝謝您的使用，再見！\")\n",
    "        \n",
    "        "
   ]
  },
  {
   "cell_type": "code",
   "execution_count": 21,
   "metadata": {},
   "outputs": [
    {
     "name": "stdout",
     "output_type": "stream",
     "text": [
      "Class 101班級成績管理系統\n",
      "-----------------------\n",
      "1.輸入學生姓名\n",
      "2.輸入國文成績\n",
      "3.輸入英文成績\n",
      "4.輸入數學成績\n",
      "5.顯示成績單\n",
      "0.結束程式\n",
      "-----------------------\n"
     ]
    }
   ],
   "source": [
    "    import os\n",
    "    \n",
    "    \n",
    "    os.system(\"cls\")\n",
    "    print(\"Class 101班級成績管理系統\")\n",
    "    print(\"-----------------------\")\n",
    "    print(\"1.輸入學生姓名\")\n",
    "    print(\"2.輸入國文成績\")\n",
    "    print(\"3.輸入英文成績\")\n",
    "    print(\"4.輸入數學成績\")\n",
    "    print(\"5.顯示成績單\")\n",
    "    print(\"0.結束程式\")\n",
    "    print(\"-----------------------\")"
   ]
  },
  {
   "cell_type": "code",
   "execution_count": 8,
   "metadata": {},
   "outputs": [
    {
     "name": "stdout",
     "output_type": "stream",
     "text": [
      "座號(0==>停止輸入 :)1\n",
      "姓名:小華\n"
     ]
    },
    {
     "ename": "NameError",
     "evalue": "name 'class101' is not defined",
     "output_type": "error",
     "traceback": [
      "\u001b[1;31m---------------------------------------------------------------------------\u001b[0m",
      "\u001b[1;31mNameError\u001b[0m                                 Traceback (most recent call last)",
      "\u001b[1;32m<ipython-input-8-dac21fc41ca5>\u001b[0m in \u001b[0;36m<module>\u001b[1;34m\u001b[0m\n\u001b[0;32m      9\u001b[0m         \u001b[1;32mif\u001b[0m \u001b[0mno\u001b[0m \u001b[1;33m<=\u001b[0m\u001b[1;36m0\u001b[0m \u001b[1;32mor\u001b[0m \u001b[0mno\u001b[0m \u001b[1;33m>\u001b[0m\u001b[1;36m100\u001b[0m\u001b[1;33m:\u001b[0m\u001b[1;32mbreak\u001b[0m\u001b[1;33m\u001b[0m\u001b[1;33m\u001b[0m\u001b[0m\n\u001b[0;32m     10\u001b[0m         \u001b[0mname\u001b[0m \u001b[1;33m=\u001b[0m \u001b[0minput\u001b[0m\u001b[1;33m(\u001b[0m\u001b[1;34m\"姓名:\"\u001b[0m\u001b[1;33m)\u001b[0m\u001b[1;33m\u001b[0m\u001b[1;33m\u001b[0m\u001b[0m\n\u001b[1;32m---> 11\u001b[1;33m         \u001b[0mclass101\u001b[0m\u001b[1;33m[\u001b[0m\u001b[0mno\u001b[0m\u001b[1;33m]\u001b[0m\u001b[1;33m=\u001b[0m \u001b[0mname\u001b[0m\u001b[1;33m\u001b[0m\u001b[1;33m\u001b[0m\u001b[0m\n\u001b[0m\u001b[0;32m     12\u001b[0m         \u001b[0mprint\u001b[0m\u001b[1;33m(\u001b[0m\u001b[0mclass_101\u001b[0m\u001b[1;33m)\u001b[0m\u001b[1;33m\u001b[0m\u001b[1;33m\u001b[0m\u001b[0m\n",
      "\u001b[1;31mNameError\u001b[0m: name 'class101' is not defined"
     ]
    }
   ],
   "source": [
    "import os\n",
    "class_101 = dict() #記錄學生座號及姓名\n",
    "chi_score = dict() #紀錄國文成績\n",
    "eng_score = dict() #紀錄英文成績\n",
    "mat_score = dict() #紀錄數學成績\n",
    "\n",
    "while True:\n",
    "        no = int(input(\"座號(0==>停止輸入 :)\"))\n",
    "        if no <=0 or no >100:break\n",
    "        name = input(\"姓名:\")\n",
    "        class101[no]= name\n",
    "        print(class_101)"
   ]
  },
  {
   "cell_type": "code",
   "execution_count": null,
   "metadata": {},
   "outputs": [],
   "source": []
  }
 ],
 "metadata": {
  "kernelspec": {
   "display_name": "Python 3",
   "language": "python",
   "name": "python3"
  },
  "language_info": {
   "codemirror_mode": {
    "name": "ipython",
    "version": 3
   },
   "file_extension": ".py",
   "mimetype": "text/x-python",
   "name": "python",
   "nbconvert_exporter": "python",
   "pygments_lexer": "ipython3",
   "version": "3.8.5"
  }
 },
 "nbformat": 4,
 "nbformat_minor": 4
}
