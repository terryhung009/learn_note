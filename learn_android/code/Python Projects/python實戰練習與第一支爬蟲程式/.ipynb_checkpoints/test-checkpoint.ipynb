{
 "cells": [
  {
   "cell_type": "code",
   "execution_count": 5,
   "metadata": {},
   "outputs": [
    {
     "name": "stdout",
     "output_type": "stream",
     "text": [
      "今日特選水果是梨子\n"
     ]
    }
   ],
   "source": [
    "import random\n",
    "fruits = ['蘋果','橘子','香蕉','梨子','番茄']\n",
    "cf = random.choice(fruits)\n",
    "print(\"今日特選水果是\" + cf)"
   ]
  },
  {
   "cell_type": "code",
   "execution_count": 6,
   "metadata": {},
   "outputs": [
    {
     "name": "stdout",
     "output_type": "stream",
     "text": [
      "今日特選水果是香蕉\n"
     ]
    }
   ],
   "source": [
    "import random\n",
    "fruits = ['蘋果','橘子','香蕉','梨子','番茄']\n",
    "cf = random.choice(fruits)\n",
    "print(\"今日特選水果是\" + cf)"
   ]
  },
  {
   "cell_type": "code",
   "execution_count": null,
   "metadata": {},
   "outputs": [],
   "source": []
  }
 ],
 "metadata": {
  "kernelspec": {
   "display_name": "Python 3",
   "language": "python",
   "name": "python3"
  },
  "language_info": {
   "codemirror_mode": {
    "name": "ipython",
    "version": 3
   },
   "file_extension": ".py",
   "mimetype": "text/x-python",
   "name": "python",
   "nbconvert_exporter": "python",
   "pygments_lexer": "ipython3",
   "version": "3.9.1"
  }
 },
 "nbformat": 4,
 "nbformat_minor": 4
}
