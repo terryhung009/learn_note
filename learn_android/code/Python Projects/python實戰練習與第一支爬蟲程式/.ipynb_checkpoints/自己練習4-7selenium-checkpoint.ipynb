{
 "cells": [
  {
   "cell_type": "code",
   "execution_count": 6,
   "metadata": {},
   "outputs": [
    {
     "name": "stdout",
     "output_type": "stream",
     "text": [
      "Code Gym 爬蟲教學\n",
      "Ask HN: Does Anybody Still Use JQuery?\n"
     ]
    }
   ],
   "source": [
    "from bs4 import BeautifulSoup\n",
    "from selenium import webdriver\n",
    "\n",
    "\n",
    "\n",
    "try:\n",
    "    chrome = webdriver.Chrome(executable_path=\"chromedriver.exe\")\n",
    "    chrome.set_page_load_timeout(10)\n",
    "    chrome.get('https://code-gym.github.io/spider_demo/')\n",
    "    soup = BeautifulSoup(chrome.page_source , \"html5lib\")\n",
    "    print(soup.find('h1').text)\n",
    "    \n",
    "    chrome.find_element_by_xpath('/html/body/div[2]/div/div[1]/div[1]/div/div/h3/a').click()\n",
    "    print(chrome.find_element_by_xpath('//*[@id=\"post-header\"]/div[2]/div/div/h1').text)\n",
    "    \n",
    "    \n",
    "    \n",
    "    \n",
    "    \n",
    "finally:\n",
    "    chrome.quit()\n",
    "    "
   ]
  },
  {
   "cell_type": "code",
   "execution_count": null,
   "metadata": {},
   "outputs": [],
   "source": []
  },
  {
   "cell_type": "code",
   "execution_count": null,
   "metadata": {},
   "outputs": [],
   "source": []
  },
  {
   "cell_type": "code",
   "execution_count": null,
   "metadata": {},
   "outputs": [],
   "source": []
  }
 ],
 "metadata": {
  "kernelspec": {
   "display_name": "Python 3",
   "language": "python",
   "name": "python3"
  },
  "language_info": {
   "codemirror_mode": {
    "name": "ipython",
    "version": 3
   },
   "file_extension": ".py",
   "mimetype": "text/x-python",
   "name": "python",
   "nbconvert_exporter": "python",
   "pygments_lexer": "ipython3",
   "version": "3.8.5"
  }
 },
 "nbformat": 4,
 "nbformat_minor": 4
}
