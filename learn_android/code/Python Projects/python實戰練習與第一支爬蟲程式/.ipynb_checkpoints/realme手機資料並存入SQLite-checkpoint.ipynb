{
 "cells": [
  {
   "cell_type": "code",
   "execution_count": 8,
   "metadata": {},
   "outputs": [
    {
     "ename": "SyntaxError",
     "evalue": "(unicode error) 'unicodeescape' codec can't decode bytes in position 2-3: truncated \\UXXXXXXXX escape (<ipython-input-8-75fdf88ce139>, line 11)",
     "output_type": "error",
     "traceback": [
      "\u001b[1;36m  File \u001b[1;32m\"<ipython-input-8-75fdf88ce139>\"\u001b[1;36m, line \u001b[1;32m11\u001b[0m\n\u001b[1;33m    dbfile = \"C:\\Users\\terry\\Desktop\\python專案\\realme手機yahoo.db\"\u001b[0m\n\u001b[1;37m             ^\u001b[0m\n\u001b[1;31mSyntaxError\u001b[0m\u001b[1;31m:\u001b[0m (unicode error) 'unicodeescape' codec can't decode bytes in position 2-3: truncated \\UXXXXXXXX escape\n"
     ]
    }
   ],
   "source": [
    "# 引入撰寫爬蟲所需套件\n",
    "import requests\n",
    "from bs4 import BeautifulSoup\n",
    "# 引入 sqlite 套件\n",
    "import sqlite3\n",
    "\n",
    "#定義網址\n",
    "url = 'https://tw.buy.yahoo.com/category/40057252'\n",
    "\n",
    "#定義資料庫位置\n",
    "dbfile = \"C:\\Users\\terry\\Desktop\\python專案\\realme手機yahoo.db\"\n",
    "conn = sqlite3.connect(dbfile) # ~代表路徑\n",
    "c = conn.cursor()\n",
    "\n",
    "#向網址要回網頁原始碼，並透過 BeautifulSoup 解析\n",
    "res = requests.get(url)\n",
    "soup = BeautifulSoup(res.text, 'html.parser')\n",
    "\n",
    "'''\n",
    "透過 soup.find_all 找到網頁原始碼中所有 class = \"item yui3-u srp-multi-image\" 的資料，\n",
    "並一個個透過 .stripped_strings 將其資訊拆開\n",
    "'''\n",
    "\n",
    "for asus in soup.find_all(class_='BaseGridItem__content___3LORP BaseGridItem__hover___3UlCS'):\n",
    "    values = list(asus.stripped_strings)\n",
    "    #不是補貨中的資料才印出\n",
    "    if '補貨中' not in values:\n",
    "        #拿掉不要的 '網路價'\n",
    "        \n",
    "        # sql insert 存入 sqlite 語法\n",
    "        c.execute('insert yahoo_price(title, price) values (?, ?)', values)\n",
    "        conn.commit()\n",
    "        \n",
    "        print(values)"
   ]
  },
  {
   "cell_type": "code",
   "execution_count": null,
   "metadata": {},
   "outputs": [],
   "source": []
  }
 ],
 "metadata": {
  "kernelspec": {
   "display_name": "Python 3",
   "language": "python",
   "name": "python3"
  },
  "language_info": {
   "codemirror_mode": {
    "name": "ipython",
    "version": 3
   },
   "file_extension": ".py",
   "mimetype": "text/x-python",
   "name": "python",
   "nbconvert_exporter": "python",
   "pygments_lexer": "ipython3",
   "version": "3.8.5"
  }
 },
 "nbformat": 4,
 "nbformat_minor": 4
}
