{
 "cells": [
  {
   "cell_type": "code",
   "execution_count": 3,
   "metadata": {},
   "outputs": [
    {
     "name": "stdout",
     "output_type": "stream",
     "text": [
      "2x1= 2     3x1= 3     4x1= 4     5x1= 5     6x1= 6     \n",
      "2x2= 4     3x2= 6     4x2= 8     5x2=10     6x2=12     \n",
      "2x3= 6     3x3= 9     4x3=12     5x3=15     6x3=18     \n",
      "2x4= 8     3x4=12     4x4=16     5x4=20     6x4=24     \n",
      "2x5=10     3x5=15     4x5=20     5x5=25     6x5=30     \n",
      "2x6=12     3x6=18     4x6=24     5x6=30     6x6=36     \n",
      "2x7=14     3x7=21     4x7=28     5x7=35     6x7=42     \n",
      "2x8=16     3x8=24     4x8=32     5x8=40     6x8=48     \n",
      "2x9=18     3x9=27     4x9=36     5x9=45     6x9=54     \n",
      "\n",
      "6x1= 6     7x1= 7     8x1= 8     9x1= 9     10x1=10     \n",
      "6x2=12     7x2=14     8x2=16     9x2=18     10x2=20     \n",
      "6x3=18     7x3=21     8x3=24     9x3=27     10x3=30     \n",
      "6x4=24     7x4=28     8x4=32     9x4=36     10x4=40     \n",
      "6x5=30     7x5=35     8x5=40     9x5=45     10x5=50     \n",
      "6x6=36     7x6=42     8x6=48     9x6=54     10x6=60     \n",
      "6x7=42     7x7=49     8x7=56     9x7=63     10x7=70     \n",
      "6x8=48     7x8=56     8x8=64     9x8=72     10x8=80     \n",
      "6x9=54     7x9=63     8x9=72     9x9=81     10x9=90     \n",
      "\n"
     ]
    }
   ],
   "source": [
    "# 7-7.py\n",
    "\n",
    "for i in range(2,9):\n",
    "    if i !=2 and i !=6 : continue\n",
    "    for j in range(1,10):\n",
    "        for k in range(i,i+5):\n",
    "            print(\"{}x{}={:>2}     \".format(k,j,k*j),end=\"\")\n",
    "        print()\n",
    "    print()"
   ]
  },
  {
   "cell_type": "code",
   "execution_count": 8,
   "metadata": {},
   "outputs": [
    {
     "name": "stdout",
     "output_type": "stream",
     "text": [
      "2x1= 2    \n",
      "2x2= 4    \n",
      "2x3= 6    \n",
      "2x4= 8    \n",
      "2x5=10    \n",
      "2x6=12    \n",
      "2x7=14    \n",
      "2x8=16    \n",
      "2x9=18    \n",
      "\n",
      "3x1= 3    \n",
      "3x2= 6    \n",
      "3x3= 9    \n",
      "3x4=12    \n",
      "3x5=15    \n",
      "3x6=18    \n",
      "3x7=21    \n",
      "3x8=24    \n",
      "3x9=27    \n",
      "\n",
      "4x1= 4    \n",
      "4x2= 8    \n",
      "4x3=12    \n",
      "4x4=16    \n",
      "4x5=20    \n",
      "4x6=24    \n",
      "4x7=28    \n",
      "4x8=32    \n",
      "4x9=36    \n",
      "\n",
      "5x1= 5    \n",
      "5x2=10    \n",
      "5x3=15    \n",
      "5x4=20    \n",
      "5x5=25    \n",
      "5x6=30    \n",
      "5x7=35    \n",
      "5x8=40    \n",
      "5x9=45    \n",
      "\n",
      "6x1= 6    \n",
      "6x2=12    \n",
      "6x3=18    \n",
      "6x4=24    \n",
      "6x5=30    \n",
      "6x6=36    \n",
      "6x7=42    \n",
      "6x8=48    \n",
      "6x9=54    \n",
      "\n",
      "7x1= 7    \n",
      "7x2=14    \n",
      "7x3=21    \n",
      "7x4=28    \n",
      "7x5=35    \n",
      "7x6=42    \n",
      "7x7=49    \n",
      "7x8=56    \n",
      "7x9=63    \n",
      "\n",
      "8x1= 8    \n",
      "8x2=16    \n",
      "8x3=24    \n",
      "8x4=32    \n",
      "8x5=40    \n",
      "8x6=48    \n",
      "8x7=56    \n",
      "8x8=64    \n",
      "8x9=72    \n",
      "\n",
      "9x1= 9    \n",
      "9x2=18    \n",
      "9x3=27    \n",
      "9x4=36    \n",
      "9x5=45    \n",
      "9x6=54    \n",
      "9x7=63    \n",
      "9x8=72    \n",
      "9x9=81    \n",
      "\n"
     ]
    }
   ],
   "source": [
    "# 7-7.py\n",
    "\n",
    "for i in range(2,10):\n",
    "    for j in range(1,10):\n",
    "        print(\"{}x{}={:>2}    \".format(i,j,i*j))\n",
    "    print()"
   ]
  },
  {
   "cell_type": "code",
   "execution_count": null,
   "metadata": {},
   "outputs": [],
   "source": []
  }
 ],
 "metadata": {
  "kernelspec": {
   "display_name": "Python 3",
   "language": "python",
   "name": "python3"
  },
  "language_info": {
   "codemirror_mode": {
    "name": "ipython",
    "version": 3
   },
   "file_extension": ".py",
   "mimetype": "text/x-python",
   "name": "python",
   "nbconvert_exporter": "python",
   "pygments_lexer": "ipython3",
   "version": "3.8.5"
  }
 },
 "nbformat": 4,
 "nbformat_minor": 4
}
