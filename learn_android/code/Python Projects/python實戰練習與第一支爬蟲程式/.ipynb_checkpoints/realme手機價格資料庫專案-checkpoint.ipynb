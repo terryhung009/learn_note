{
 "cells": [
  {
   "cell_type": "code",
   "execution_count": 6,
   "metadata": {},
   "outputs": [
    {
     "name": "stdout",
     "output_type": "stream",
     "text": [
      "['realme X50 Pro S865 (12G+256G) 旗艦四鏡頭手機', '$15,990', '看特色', '比較', '找相似']\n",
      "['realme X7 Pro (8G+256G)天璣1000+ 5G潮玩旗艦機', '$14,990', '看特色', '比較', '找相似']\n",
      "['realme X3 (8G/128G) 6.6吋 四鏡頭全速旗艦機', '$9,990', '贈品', '看特色', '比較', '找相似']\n",
      "['realme X50 S765G 四鏡頭暢速潮玩機 (6G+128G)', '$10,990', '看特色', '比較', '找相似']\n",
      "['realme C3 (3G/64G)6.5吋大電量遊戲怪獸', '$3,990', '贈品', '看特色', '比較', '找相似']\n",
      "['realme X7 Pro  (8G+128G)天璣1000+ 5G潮玩旗艦機', '$13,990', '看特色', '比較', '找相似']\n",
      "['realme 6 (8G/128G) 極速電競AI四鏡頭6.5吋超級防手震手機', '$6,990', '贈品', '看特色', '比較', '找相似']\n",
      "['realme X3 (8G/128G)S855+四鏡頭全速旗艦手機', '$9,990', '贈品', '看特色', '比較', '找相似']\n",
      "['realme X50 (6G/128G) 6.57吋AI 四鏡頭智慧手機', '$7,990', '看特色', '比較', '找相似']\n",
      "['realme C3 (3G/64G) 6.5吋大電量遊戲怪獸手機', '$3,690', '看特色', '比較', '找相似']\n",
      "['realme 7 5G  (8G+128G) 天璣800U大電量輕旗艦', '$9,990', '看特色', '比較', '找相似']\n",
      "['realme C3 (3G/64G) 6.5吋大螢幕八核心智慧手機', '$3,990', '贈品', '看特色', '比較', '找相似']\n",
      "['realme X50 (6G/128G) 6.57吋AI 四鏡頭智慧手機', '$8,490', '贈品', '看特色', '比較', '找相似']\n",
      "['realme X50 5G (8G/128G) 6.57吋AI 四鏡頭智慧手機(高階版)', '$9,890', '看特色', '比較', '找相似']\n",
      "['Realme 6i (4G/128G) 6.5 吋八核心4800萬智慧手機', '$5,990', '看特色', '比較', '找相似']\n"
     ]
    }
   ],
   "source": [
    "# 引入撰寫爬蟲所需套件\n",
    "import requests\n",
    "from bs4 import BeautifulSoup\n",
    "\n",
    "#定義網址\n",
    "url = 'https://tw.buy.yahoo.com/category/40057252'\n",
    "\n",
    "#向網址要回網頁原始碼，並透過 BeautifulSoup 解析\n",
    "res = requests.get(url)\n",
    "soup = BeautifulSoup(res.text, 'html.parser')\n",
    "\n",
    "'''\n",
    "透過 soup.find_all 找到網頁原始碼中所有 class = \"BaseGridItem__grid___2wuJ7 BaseGridItem__multipleImage___37M7b\" 的資料，\n",
    "並一個個透過 .stripped_strings 將其資訊拆開\n",
    "'''\n",
    "for asus in soup.find_all(class_='BaseGridItem__content___3LORP BaseGridItem__hover___3UlCS'):\n",
    "    values = list(asus.stripped_strings)\n",
    "    #不是補貨中的資料才印出\n",
    "    if '補貨中' not in values:\n",
    "        #拿掉不要的 '網路價'\n",
    "        \n",
    "        print(values)"
   ]
  },
  {
   "cell_type": "code",
   "execution_count": null,
   "metadata": {},
   "outputs": [],
   "source": []
  }
 ],
 "metadata": {
  "kernelspec": {
   "display_name": "Python 3",
   "language": "python",
   "name": "python3"
  },
  "language_info": {
   "codemirror_mode": {
    "name": "ipython",
    "version": 3
   },
   "file_extension": ".py",
   "mimetype": "text/x-python",
   "name": "python",
   "nbconvert_exporter": "python",
   "pygments_lexer": "ipython3",
   "version": "3.8.5"
  }
 },
 "nbformat": 4,
 "nbformat_minor": 4
}
