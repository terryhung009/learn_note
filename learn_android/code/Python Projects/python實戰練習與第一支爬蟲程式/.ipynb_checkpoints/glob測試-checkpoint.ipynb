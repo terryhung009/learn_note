{
 "cells": [
  {
   "cell_type": "code",
   "execution_count": 1,
   "metadata": {},
   "outputs": [
    {
     "name": "stdout",
     "output_type": "stream",
     "text": [
      "4-2.ipynb\n",
      "4-4.ipynb\n",
      "4-6.ipynb\n"
     ]
    }
   ],
   "source": [
    "import glob\n",
    "\n",
    "files = glob.glob(\"4-*.ipynb\")\n",
    "for f in files:\n",
    "    print(f)\n",
    "    "
   ]
  },
  {
   "cell_type": "code",
   "execution_count": 2,
   "metadata": {},
   "outputs": [
    {
     "name": "stdout",
     "output_type": "stream",
     "text": [
      "C:\\Users\\terry\\Desktop\\4-2.ipynb\n",
      "C:\\Users\\terry\\Desktop\\4-4.ipynb\n",
      "C:\\Users\\terry\\Desktop\\4-6.ipynb\n"
     ]
    }
   ],
   "source": [
    "import glob,os.path\n",
    "\n",
    "files = glob.glob(\"4-*.ipynb\")\n",
    "for f in files:\n",
    "    print(os.path.abspath(f))"
   ]
  },
  {
   "cell_type": "code",
   "execution_count": null,
   "metadata": {},
   "outputs": [],
   "source": []
  }
 ],
 "metadata": {
  "kernelspec": {
   "display_name": "Python 3",
   "language": "python",
   "name": "python3"
  },
  "language_info": {
   "codemirror_mode": {
    "name": "ipython",
    "version": 3
   },
   "file_extension": ".py",
   "mimetype": "text/x-python",
   "name": "python",
   "nbconvert_exporter": "python",
   "pygments_lexer": "ipython3",
   "version": "3.8.5"
  }
 },
 "nbformat": 4,
 "nbformat_minor": 4
}
