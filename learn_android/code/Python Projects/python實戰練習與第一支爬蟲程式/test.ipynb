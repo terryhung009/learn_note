{
 "cells": [
  {
   "cell_type": "code",
   "execution_count": 1,
   "metadata": {},
   "outputs": [
    {
     "name": "stdout",
     "output_type": "stream",
     "text": [
      "今日特選水果是番茄\n"
     ]
    }
   ],
   "source": [
    "import random\n",
    "fruits = ['蘋果','橘子','香蕉','梨子','番茄']\n",
    "cf = random.choice(fruits)\n",
    "print(\"今日特選水果是\" + cf)"
   ]
  },
  {
   "cell_type": "code",
   "execution_count": 2,
   "metadata": {},
   "outputs": [
    {
     "name": "stdout",
     "output_type": "stream",
     "text": [
      "今日特選水果是蘋果\n"
     ]
    }
   ],
   "source": [
    "import random\n",
    "fruits = ['蘋果','橘子','香蕉','梨子','番茄']\n",
    "cf = random.choice(fruits)\n",
    "print(\"今日特選水果是\" + cf)"
   ]
  },
  {
   "cell_type": "code",
   "execution_count": 3,
   "metadata": {},
   "outputs": [
    {
     "name": "stdout",
     "output_type": "stream",
     "text": [
      "今日特選水果是梨子\n"
     ]
    }
   ],
   "source": [
    "import random\n",
    "fruits = ['蘋果','橘子','香蕉','梨子','番茄']\n",
    "cf = random.choice(fruits)\n",
    "print(\"今日特選水果是\" + cf)"
   ]
  },
  {
   "cell_type": "code",
   "execution_count": null,
   "metadata": {},
   "outputs": [],
   "source": []
  }
 ],
 "metadata": {
  "kernelspec": {
   "display_name": "Python 3",
   "language": "python",
   "name": "python3"
  },
  "language_info": {
   "codemirror_mode": {
    "name": "ipython",
    "version": 3
   },
   "file_extension": ".py",
   "mimetype": "text/x-python",
   "name": "python",
   "nbconvert_exporter": "python",
   "pygments_lexer": "ipython3",
   "version": "3.8.5"
  }
 },
 "nbformat": 4,
 "nbformat_minor": 4
}
