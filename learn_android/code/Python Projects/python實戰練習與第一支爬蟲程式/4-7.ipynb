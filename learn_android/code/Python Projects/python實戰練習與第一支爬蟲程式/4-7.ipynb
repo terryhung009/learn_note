{
 "cells": [
  {
   "cell_type": "markdown",
   "metadata": {},
   "source": [
    "## Selenium安裝與功能教學\n",
    "\n",
    "### Code Gym 爬蟲教學測試網址\n",
    "[https://code-gym.github.io/spider_demo/](https://code-gym.github.io/spider_demo/)\n",
    "\n",
    "### Chrome 瀏覽器driver下載網址\n",
    "[http://chromedriver.chromium.org/downloads](http://chromedriver.chromium.org/downloads)\n",
    "\n",
    "### Selenium 中文文件\n",
    "[https://selenium-python-zh.readthedocs.io/en/latest/locating-elements.html#](https://selenium-python-zh.readthedocs.io/en/latest/locating-elements.html#)\n",
    "\n",
    "### XPath 語法\n",
    "[https://zh.wikipedia.org/wiki/XPath](https://zh.wikipedia.org/wiki/XPath)"
   ]
  },
  {
   "cell_type": "code",
   "execution_count": 4,
   "metadata": {},
   "outputs": [
    {
     "name": "stdout",
     "output_type": "stream",
     "text": [
      "Code Gym 爬蟲教學\n",
      "Ask HN: Does Anybody Still Use JQuery?\n"
     ]
    }
   ],
   "source": [
    "from bs4 import BeautifulSoup\n",
    "from selenium import webdriver\n",
    "\n",
    "try:\n",
    "    options = webdriver.ChromeOptions()\n",
    "    \n",
    "    chrome = webdriver.Chrome(options=options, executable_path='./chromedriver')\n",
    "    chrome.set_page_load_timeout(10)\n",
    "    chrome.get('https://code-gym.github.io/spider_demo/')\n",
    "    soup = BeautifulSoup(chrome.page_source, 'html5lib')\n",
    "    print(soup.find('h1').text)\n",
    "    \n",
    "    chrome.find_element_by_xpath('/html/body/div[2]/div/div[1]/div[1]/div/div/h3/a').click()\n",
    "    print(chrome.find_element_by_xpath('//*[@id=\"post-header\"]/div[2]/div/div/h1').text)\n",
    "    \n",
    "finally:\n",
    "    chrome.quit()\n"
   ]
  },
  {
   "cell_type": "code",
   "execution_count": 3,
   "metadata": {},
   "outputs": [],
   "source": [
    "options.add_argument('--headless')"
   ]
  },
  {
   "cell_type": "code",
   "execution_count": null,
   "metadata": {},
   "outputs": [],
   "source": []
  }
 ],
 "metadata": {
  "kernelspec": {
   "display_name": "Python 3",
   "language": "python",
   "name": "python3"
  },
  "language_info": {
   "codemirror_mode": {
    "name": "ipython",
    "version": 3
   },
   "file_extension": ".py",
   "mimetype": "text/x-python",
   "name": "python",
   "nbconvert_exporter": "python",
   "pygments_lexer": "ipython3",
   "version": "3.8.5"
  }
 },
 "nbformat": 4,
 "nbformat_minor": 2
}
