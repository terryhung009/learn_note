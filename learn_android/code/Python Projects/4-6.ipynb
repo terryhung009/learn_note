{
 "cells": [
  {
   "cell_type": "markdown",
   "metadata": {},
   "source": [
    "## 台鐵時刻表\n",
    "\n",
    "[https://tip.railway.gov.tw/tra-tip-web/tip](https://tip.railway.gov.tw/tra-tip-web/tip)"
   ]
  },
  {
   "cell_type": "code",
   "execution_count": 3,
   "metadata": {},
   "outputs": [],
   "source": [
    "import requests\n",
    "from bs4 import BeautifulSoup\n",
    "import time\n",
    "\n",
    "url = 'https://tip.railway.gov.tw/tra-tip-web/tip'\n",
    "staDic = {}\n",
    "today = time.strftime('%Y/%m/%d')\n",
    "sTime = '06:00'\n",
    "eTime = '12:00'\n",
    "\n",
    "def getTrip():\n",
    "    resp = requests.get(url)\n",
    "    if resp.status_code != 200:\n",
    "        print('URL發生錯誤：' + url)\n",
    "        return\n",
    "    \n",
    "    soup = BeautifulSoup(resp.text, 'html5lib')\n",
    "    stations = soup.find(id = 'cityHot').ul.find_all('li')\n",
    "    for station in stations:\n",
    "        stationName = station.button.text\n",
    "        stationId = station.button['title']\n",
    "        staDic[stationName] = stationId\n",
    "    \n",
    "    csrf = soup.find(id = 'queryForm').find('input',{'name':'_csrf'})['value']\n",
    "    formData = {\n",
    "        'trainTypeList':'ALL',\n",
    "        'transfer':'ONE',\n",
    "        'startOrEndTime':'true',\n",
    "        'startStation':staDic['臺北'],\n",
    "        'endStation':staDic['新竹'],\n",
    "        'rideDate':today,\n",
    "        'startTime':sTime,\n",
    "        'endTime':eTime, \n",
    "        '_csrf':csrf\n",
    "    }\n",
    "    \n",
    "    queryUrl = soup.find(id='queryForm')['action']\n",
    "    qResp = requests.post('https://tip.railway.gov.tw'+queryUrl, data=formData)\n",
    "    qSoup = BeautifulSoup(qResp.text, 'html5lib')\n",
    "    trs = qSoup.find_all('tr', 'trip-column')\n",
    "    for tr in trs:\n",
    "        td = tr.find_all('td')\n",
    "        print('%s : %s, %s' % (td[0].ul.li.a.text, td[1].text, td[2].text)) \n",
    "        \n",
    "getTrip()\n"
   ]
  },
  {
   "cell_type": "code",
   "execution_count": null,
   "metadata": {},
   "outputs": [],
   "source": []
  }
 ],
 "metadata": {
  "kernelspec": {
   "display_name": "Python 3",
   "language": "python",
   "name": "python3"
  },
  "language_info": {
   "codemirror_mode": {
    "name": "ipython",
    "version": 3
   },
   "file_extension": ".py",
   "mimetype": "text/x-python",
   "name": "python",
   "nbconvert_exporter": "python",
   "pygments_lexer": "ipython3",
   "version": "3.8.5"
  }
 },
 "nbformat": 4,
 "nbformat_minor": 2
}
